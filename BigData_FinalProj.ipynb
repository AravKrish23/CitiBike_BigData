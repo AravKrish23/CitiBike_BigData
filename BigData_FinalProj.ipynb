{
  "nbformat": 4,
  "nbformat_minor": 0,
  "metadata": {
    "colab": {
      "provenance": []
    },
    "kernelspec": {
      "name": "python3",
      "display_name": "Python 3"
    },
    "language_info": {
      "name": "python"
    }
  },
  "cells": [
    {
      "cell_type": "code",
      "source": [
        "pip install download\n"
      ],
      "metadata": {
        "colab": {
          "base_uri": "https://localhost:8080/"
        },
        "id": "Ut1HAy5as8Cp",
        "outputId": "f71f8f09-3a32-4c3e-e14c-ed509cc173a4"
      },
      "execution_count": null,
      "outputs": [
        {
          "output_type": "stream",
          "name": "stdout",
          "text": [
            "Collecting download\n",
            "  Downloading download-0.3.5-py3-none-any.whl (8.8 kB)\n",
            "Requirement already satisfied: tqdm in /usr/local/lib/python3.10/dist-packages (from download) (4.66.2)\n",
            "Requirement already satisfied: six in /usr/local/lib/python3.10/dist-packages (from download) (1.16.0)\n",
            "Requirement already satisfied: requests in /usr/local/lib/python3.10/dist-packages (from download) (2.31.0)\n",
            "Requirement already satisfied: charset-normalizer<4,>=2 in /usr/local/lib/python3.10/dist-packages (from requests->download) (3.3.2)\n",
            "Requirement already satisfied: idna<4,>=2.5 in /usr/local/lib/python3.10/dist-packages (from requests->download) (3.7)\n",
            "Requirement already satisfied: urllib3<3,>=1.21.1 in /usr/local/lib/python3.10/dist-packages (from requests->download) (2.0.7)\n",
            "Requirement already satisfied: certifi>=2017.4.17 in /usr/local/lib/python3.10/dist-packages (from requests->download) (2024.2.2)\n",
            "Installing collected packages: download\n",
            "Successfully installed download-0.3.5\n"
          ]
        }
      ]
    },
    {
      "cell_type": "code",
      "source": [
        "!pip install pyspark\n"
      ],
      "metadata": {
        "colab": {
          "base_uri": "https://localhost:8080/"
        },
        "id": "AXHot0wk62P4",
        "outputId": "81eaa34c-8161-4d05-8cdc-80ce505d2658"
      },
      "execution_count": null,
      "outputs": [
        {
          "output_type": "stream",
          "name": "stdout",
          "text": [
            "Collecting pyspark\n",
            "  Downloading pyspark-3.5.1.tar.gz (317.0 MB)\n",
            "\u001b[2K     \u001b[90m━━━━━━━━━━━━━━━━━━━━━━━━━━━━━━━━━━━━━━━━\u001b[0m \u001b[32m317.0/317.0 MB\u001b[0m \u001b[31m3.3 MB/s\u001b[0m eta \u001b[36m0:00:00\u001b[0m\n",
            "\u001b[?25h  Preparing metadata (setup.py) ... \u001b[?25l\u001b[?25hdone\n",
            "Requirement already satisfied: py4j==0.10.9.7 in /usr/local/lib/python3.10/dist-packages (from pyspark) (0.10.9.7)\n",
            "Building wheels for collected packages: pyspark\n",
            "  Building wheel for pyspark (setup.py) ... \u001b[?25l\u001b[?25hdone\n",
            "  Created wheel for pyspark: filename=pyspark-3.5.1-py2.py3-none-any.whl size=317488491 sha256=215b4a50e53c8cc24e4c57ad778f615068aafe4637bc7148e86448e6c3a6abec\n",
            "  Stored in directory: /root/.cache/pip/wheels/80/1d/60/2c256ed38dddce2fdd93be545214a63e02fbd8d74fb0b7f3a6\n",
            "Successfully built pyspark\n",
            "Installing collected packages: pyspark\n",
            "Successfully installed pyspark-3.5.1\n"
          ]
        }
      ]
    },
    {
      "cell_type": "code",
      "execution_count": null,
      "metadata": {
        "id": "5AoDL10kghux"
      },
      "outputs": [],
      "source": [
        "import pandas as pd\n",
        "import numpy as np\n",
        "from download import download\n"
      ]
    },
    {
      "cell_type": "code",
      "source": [
        "path = download('https://s3.amazonaws.com/tripdata/2023-citibike-tripdata.zip','/tmp/aq', kind = 'zip')"
      ],
      "metadata": {
        "colab": {
          "base_uri": "https://localhost:8080/"
        },
        "id": "mCLpKvuisuqh",
        "outputId": "ccf11f08-f303-4663-d20d-a5ec3a9758c7"
      },
      "execution_count": null,
      "outputs": [
        {
          "output_type": "stream",
          "name": "stdout",
          "text": [
            "Creating data folder...\n",
            "Downloading data from https://s3.amazonaws.com/tripdata/2023-citibike-tripdata.zip (1.30 GB)\n",
            "\n",
            "file_sizes: 100%|██████████████████████████| 1.39G/1.39G [01:27<00:00, 16.0MB/s]\n",
            "Extracting zip file...\n",
            "Successfully downloaded / unzipped to /tmp/aq\n"
          ]
        }
      ]
    },
    {
      "cell_type": "code",
      "source": [
        "from pyspark.sql.functions import col, hour, dayofweek, unix_timestamp\n",
        "from pyspark.sql import SparkSession\n",
        "from pyspark.sql.types import StructType, StructField, StringType, DoubleType, TimestampType"
      ],
      "metadata": {
        "id": "1q9rRJx-BKGl"
      },
      "execution_count": null,
      "outputs": []
    },
    {
      "cell_type": "code",
      "source": [
        "\n",
        "\n",
        "# Create a Spark session\n",
        "spark = SparkSession.builder.appName(\"ReadCSVs\").getOrCreate()\n",
        "\n",
        "# Define the schema based on the CSV structure\n",
        "schema = StructType([\n",
        "    StructField(\"ride_id\", StringType(), True),\n",
        "    StructField(\"rideable_type\", StringType(), True),\n",
        "    StructField(\"started_at\", TimestampType(), True),\n",
        "    StructField(\"ended_at\", TimestampType(), True),\n",
        "    StructField(\"start_station_name\", StringType(), True),\n",
        "    StructField(\"start_station_id\", StringType(), True),\n",
        "    StructField(\"end_station_name\", StringType(), True),\n",
        "    StructField(\"end_station_id\", StringType(), True),\n",
        "    StructField(\"start_lat\", DoubleType(), True),\n",
        "    StructField(\"start_lng\", DoubleType(), True),\n",
        "    StructField(\"end_lat\", DoubleType(), True),\n",
        "    StructField(\"end_lng\", DoubleType(), True),\n",
        "    StructField(\"member_casual\", StringType(), True)\n",
        "])\n",
        "\n",
        "# Enable recursive reading of subdirectories\n",
        "spark.conf.set(\"spark.sql.files.recursiveFileLookup\", \"true\")\n",
        "\n",
        "# Path to the directory containing CSV files\n",
        "path = \"/tmp/aq/2023-citibike-tripdata/\"\n",
        "\n",
        "# Read all CSV files into a single DataFrame using the schema\n",
        "df = spark.read.option(\"header\", \"true\")\\\n",
        "               .option(\"recursiveFileLookup\", \"true\")\\\n",
        "               .schema(schema)\\\n",
        "               .csv(path)"
      ],
      "metadata": {
        "id": "x_GU9esR6n_Y"
      },
      "execution_count": null,
      "outputs": []
    },
    {
      "cell_type": "code",
      "source": [
        "df.printSchema()\n",
        "\n",
        "df.show()\n",
        "df.count()"
      ],
      "metadata": {
        "colab": {
          "base_uri": "https://localhost:8080/"
        },
        "id": "WGkO3gRe7QBf",
        "outputId": "795bbe96-43f0-4851-d423-44d28f97fc42"
      },
      "execution_count": null,
      "outputs": [
        {
          "output_type": "stream",
          "name": "stdout",
          "text": [
            "root\n",
            " |-- ride_id: string (nullable = true)\n",
            " |-- rideable_type: string (nullable = true)\n",
            " |-- started_at: timestamp (nullable = true)\n",
            " |-- ended_at: timestamp (nullable = true)\n",
            " |-- start_station_name: string (nullable = true)\n",
            " |-- start_station_id: string (nullable = true)\n",
            " |-- end_station_name: string (nullable = true)\n",
            " |-- end_station_id: string (nullable = true)\n",
            " |-- start_lat: double (nullable = true)\n",
            " |-- start_lng: double (nullable = true)\n",
            " |-- end_lat: double (nullable = true)\n",
            " |-- end_lng: double (nullable = true)\n",
            " |-- member_casual: string (nullable = true)\n",
            "\n",
            "+----------------+-------------+-------------------+-------------------+--------------------+----------------+--------------------+--------------+------------+-------------+-----------------+------------------+-------------+\n",
            "|         ride_id|rideable_type|         started_at|           ended_at|  start_station_name|start_station_id|    end_station_name|end_station_id|   start_lat|    start_lng|          end_lat|           end_lng|member_casual|\n",
            "+----------------+-------------+-------------------+-------------------+--------------------+----------------+--------------------+--------------+------------+-------------+-----------------+------------------+-------------+\n",
            "|48878C314260EF1D| classic_bike|2023-11-03 17:48:21|2023-11-03 17:58:46|Queens Plaza Nort...|         6429.01|31 Ave & Steinway St|       6782.01| 40.75110662| -73.94087255|       40.7611488|       -73.9170071|       member|\n",
            "|9E0E1583031239C4| classic_bike|2023-11-01 12:54:59|2023-11-01 13:05:23|Queens Plaza Nort...|         6429.01|     E 74 St & 1 Ave|       6953.08|40.751232624|-73.940472007|       40.7689738|      -73.95482273|       member|\n",
            "|FEBB9109BCB32647| classic_bike|2023-11-13 12:23:29|2023-11-13 12:27:28|E 128 St & Madiso...|         7735.23|    E 138 St & 5 Ave|       7809.13|    40.80756|   -73.939182|         40.81449|        -73.936153|       member|\n",
            "|6E5C8C2B6D45B195| classic_bike|2023-11-27 08:49:26|2023-11-27 09:03:35|W 82 St & Central...|         7304.08|     E 74 St & 1 Ave|       6953.08|40.782863975|-73.971619368|       40.7689738|      -73.95482273|       member|\n",
            "|29175CDCC2735F4E| classic_bike|2023-11-14 19:20:04|2023-11-14 20:35:12|     8 Ave & W 33 St|         6450.12|                NULL|          NULL|40.751657009|-73.993606925|            40.78|            -73.97|       member|\n",
            "|A1717B24A900AD20| classic_bike|2023-11-05 22:53:05|2023-11-05 22:59:43|Nelson Ave & W 17...|         8290.01|    3 Ave & E 174 St|       8241.07|40.843870282|-73.921083212|         40.84224|          -73.8985|       member|\n",
            "|2E2C02C68B1E9043| classic_bike|2023-11-17 23:06:01|2023-11-17 23:12:02|  N 5 St & Wythe Ave|         5419.04|Bayard St & Leona...|       5442.05|   40.718389|   -73.961501|40.71915571696044|-73.94885390996933|       member|\n",
            "|45F70B86AECCFB15| classic_bike|2023-11-04 21:27:07|2023-11-04 23:12:37|     8 Ave & W 33 St|         6450.12|                NULL|          NULL|40.752040386|-73.993520617|            40.74|            -73.98|       member|\n",
            "|FA28D85063A2DA09| classic_bike|2023-11-27 10:32:25|2023-11-27 10:39:52|Sherman Ave & E 1...|         8072.06|    3 Ave & E 174 St|       8241.07|40.831282735|-73.917387962|         40.84224|          -73.8985|       member|\n",
            "|426C7A60C3122F65| classic_bike|2023-11-14 19:36:53|2023-11-14 19:48:47|W 82 St & Central...|         7304.08|     E 88 St & 1 Ave|       7235.13|40.783026695|-73.971754193|        40.778301|       -73.9488134|       member|\n",
            "|BB21D51811BF7A1C| classic_bike|2023-11-30 18:02:02|2023-11-30 18:21:31|     8 Ave & W 33 St|         6450.12|     E 45 St & 3 Ave|       6464.08|   40.751551|   -73.993934|      40.75255434|      -73.97282625|       member|\n",
            "|E13ACDB1230FF280| classic_bike|2023-11-12 10:55:27|2023-11-12 11:06:26|W 180 St & Ft Was...|         8358.03|W 148 St & Amster...|       8033.09| 40.84989357|-73.938559532|        40.827075|        -73.945909|       member|\n",
            "|8B71C176CE5274A4| classic_bike|2023-11-01 14:30:17|2023-11-01 14:46:26|Queens Plaza Nort...|         6429.01|31 Ave & Steinway St|       6782.01| 40.75110165| -73.94073717|       40.7611488|       -73.9170071|       member|\n",
            "|C67292CBD5CE394C| classic_bike|2023-11-26 00:44:03|2023-11-26 00:51:24| Broadway & W 165 St|         8191.01| Broadway & W 185 St|       8416.07|40.839038014|-73.941439509|        40.852538|         -73.93441|       member|\n",
            "|FB64188A65C277F9| classic_bike|2023-11-02 17:40:49|2023-11-02 23:50:14|Thompson St & Ble...|         5721.07|                NULL|          NULL|40.728157401| -73.99998796|            40.71|            -73.99|       member|\n",
            "|CF24D6F420AA77F1| classic_bike|2023-11-15 07:59:48|2023-11-15 08:16:15|E 128 St & Madiso...|         7735.23|     E 74 St & 1 Ave|       6953.08|40.807545424|-73.938857317|       40.7689738|      -73.95482273|       member|\n",
            "|0629D9ECD6E2DD02| classic_bike|2023-11-13 17:40:03|2023-11-13 17:44:28|E 128 St & Madiso...|         7735.23|St Nicholas Ave &...|       7756.10|40.807571888|-73.939142704|       40.8114323|       -73.9518776|       member|\n",
            "|8A28F0C65F004D71| classic_bike|2023-11-13 08:28:40|2023-11-13 09:31:15| Broadway & W 165 St|         8191.01|                NULL|          NULL|40.838931561|-73.941472888|            40.84|            -73.94|       member|\n",
            "|91F00F4CF0A0A6C8| classic_bike|2023-11-11 15:56:49|2023-11-11 16:01:25|E 128 St & Madiso...|         7735.23|St Nicholas Ave &...|       7756.10|40.807547927|-73.939084411|       40.8114323|       -73.9518776|       member|\n",
            "|45EE3ABAC28BE907| classic_bike|2023-11-18 21:12:35|2023-11-18 21:23:22|E 128 St & Madiso...|         7735.23|W 148 St & Amster...|       8033.09|40.807518005|-73.939022303|        40.827075|        -73.945909|       member|\n",
            "+----------------+-------------+-------------------+-------------------+--------------------+----------------+--------------------+--------------+------------+-------------+-----------------+------------------+-------------+\n",
            "only showing top 20 rows\n",
            "\n"
          ]
        },
        {
          "output_type": "execute_result",
          "data": {
            "text/plain": [
              "36226600"
            ]
          },
          "metadata": {},
          "execution_count": 8
        }
      ]
    },
    {
      "cell_type": "code",
      "source": [
        "import matplotlib.pyplot as plt\n",
        "import seaborn as sns\n",
        "\n",
        "edf = df.withColumn(\"duration_minutes\",\n",
        "                   (unix_timestamp(\"ended_at\") - unix_timestamp(\"started_at\")) / 60)\n",
        "\n",
        "\n",
        "# Aggregate data for visualizations\n",
        "ride_counts = edf.groupBy(\"rideable_type\").count()\n",
        "daily_rides = edf.groupBy(df.started_at.substr(1, 10).alias(\"date\")).count().orderBy(\"date\")"
      ],
      "metadata": {
        "id": "nkX_JeeQb3m8"
      },
      "execution_count": null,
      "outputs": []
    },
    {
      "cell_type": "code",
      "source": [
        "ride_counts_pd = ride_counts.toPandas()\n",
        "daily_rides_pd = daily_rides.toPandas()\n",
        "\n",
        "# Plot Ride Counts by Type\n",
        "plt.figure(figsize=(10, 6))\n",
        "sns.barplot(data=ride_counts_pd, x='rideable_type', y='count')\n",
        "plt.title('Ride Counts by Type')\n",
        "plt.xlabel('Type of Bike')\n",
        "plt.ylabel('Count')\n",
        "plt.show()\n",
        "\n",
        "# Plot Daily Rides\n",
        "plt.figure(figsize=(10, 6))\n",
        "daily_rides_pd.plot(x='date', y='count', kind='line')\n",
        "plt.title('Daily Ride Activity')\n",
        "plt.xlabel('Date')\n",
        "plt.ylabel('Number of Rides')\n",
        "plt.xticks(rotation=45)\n",
        "plt.tight_layout()\n",
        "plt.show()"
      ],
      "metadata": {
        "colab": {
          "base_uri": "https://localhost:8080/",
          "height": 1000
        },
        "id": "6KLZXWjgcxB8",
        "outputId": "e5f4b034-2dd1-4487-a856-6f78f9ccd1f3"
      },
      "execution_count": null,
      "outputs": [
        {
          "output_type": "display_data",
          "data": {
            "text/plain": [
              "<Figure size 1000x600 with 1 Axes>"
            ],
            "image/png": "[encoded data removed]"
          },
          "metadata": {}
        },
        {
          "output_type": "display_data",
          "data": {
            "text/plain": [
              "<Figure size 1000x600 with 0 Axes>"
            ]
          },
          "metadata": {}
        },
        {
          "output_type": "display_data",
          "data": {
            "text/plain": [
              "<Figure size 640x480 with 1 Axes>"
            ],
            "image/png": "[encoded data removed]"
          },
          "metadata": {}
        }
      ]
    },
    {
      "cell_type": "code",
      "source": [],
      "metadata": {
        "id": "EA2JD_ABq1nt"
      },
      "execution_count": null,
      "outputs": []
    },
    {
      "cell_type": "code",
      "source": [
        "\n",
        "\n",
        "# Most Popular Start and End Stations\n",
        "top_start_stations = edf.groupBy(\"start_station_name\").count().orderBy(\"count\", ascending=False).limit(10)\n",
        "top_end_stations = edf.groupBy(\"end_station_name\").count().orderBy(\"count\", ascending=False).limit(10)\n",
        "\n",
        "top_start_stations_pd = top_start_stations.toPandas()\n",
        "top_end_stations_pd = top_end_stations.toPandas()\n",
        "\n",
        "plt.figure(figsize=(10, 6))\n",
        "sns.barplot(y='start_station_name', x='count', data=top_start_stations_pd)\n",
        "plt.title('Top 10 Start Stations')\n",
        "plt.xlabel('Counts')\n",
        "plt.ylabel('Station Name')\n",
        "plt.show()\n",
        "\n",
        "plt.figure(figsize=(10, 6))\n",
        "sns.barplot(y='end_station_name', x='count', data=top_end_stations_pd)\n",
        "plt.title('Top 10 End Stations')\n",
        "plt.xlabel('Counts')\n",
        "plt.ylabel('Station Name')\n",
        "plt.show()"
      ],
      "metadata": {
        "colab": {
          "base_uri": "https://localhost:8080/",
          "height": 1000
        },
        "id": "pkdDH9pqfEY0",
        "outputId": "a7b5d518-65dd-46cf-e165-e17b8bfa8589"
      },
      "execution_count": null,
      "outputs": [
        {
          "output_type": "display_data",
          "data": {
            "text/plain": [
              "<Figure size 1000x600 with 1 Axes>"
            ],
            "image/png": "[encoded data removed]"
          },
          "metadata": {}
        },
        {
          "output_type": "display_data",
          "data": {
            "text/plain": [
              "<Figure size 1000x600 with 1 Axes>"
            ],
            "image/png": "[encoded data removed]"
          },
          "metadata": {}
        }
      ]
    },
    {
      "cell_type": "code",
      "source": [
        "from pyspark.sql.functions import dayofweek, avg\n",
        "\n",
        "# Calculate average ride duration by day of the week\n",
        "avg_duration_by_day = edf.withColumn(\"day_of_week\", dayofweek(\"started_at\")) \\\n",
        "    .groupBy(\"day_of_week\") \\\n",
        "    .agg(avg(\"duration_minutes\").alias(\"avg_duration\")) \\\n",
        "    .orderBy(\"day_of_week\")\n",
        "\n",
        "avg_duration_by_day.show()\n",
        "\n",
        "# Convert to Pandas DataFrame for plotting\n",
        "avg_duration_by_day_pd = avg_duration_by_day.toPandas()\n",
        "\n",
        "# Plotting\n",
        "plt.figure(figsize=(10, 6))\n",
        "sns.barplot(x='day_of_week', y='avg_duration', data=avg_duration_by_day_pd)\n",
        "plt.title('Average Ride Duration by Day of the Week')\n",
        "plt.xlabel('Day of the Week')\n",
        "plt.ylabel('Average Duration (minutes)')\n",
        "plt.xticks(ticks=[0, 1, 2, 3, 4, 5, 6], labels=['Sun', 'Mon', 'Tue', 'Wed', 'Thu', 'Fri', 'Sat'])\n",
        "plt.show()"
      ],
      "metadata": {
        "colab": {
          "base_uri": "https://localhost:8080/",
          "height": 772
        },
        "id": "sCip2YHkrCtl",
        "outputId": "2cc53746-926c-4302-b2ea-487d4bebcbc7"
      },
      "execution_count": null,
      "outputs": [
        {
          "output_type": "stream",
          "name": "stdout",
          "text": [
            "+-----------+------------------+\n",
            "|day_of_week|      avg_duration|\n",
            "+-----------+------------------+\n",
            "|          1| 17.26449813781312|\n",
            "|          2|14.331965065582706|\n",
            "|          3| 13.97108306611525|\n",
            "|          4|13.810213190302312|\n",
            "|          5|13.938310847299084|\n",
            "|          6|14.521845221553765|\n",
            "|          7|17.262338058289576|\n",
            "+-----------+------------------+\n",
            "\n"
          ]
        },
        {
          "output_type": "display_data",
          "data": {
            "text/plain": [
              "<Figure size 1000x600 with 1 Axes>"
            ],
            "image/png": "[encoded data removed]"
          },
          "metadata": {}
        }
      ]
    },
    {
      "cell_type": "code",
      "source": [
        "# Group by membership type and date\n",
        "member_rides_over_time = edf.withColumn(\"month\", month(\"started_at\")) \\\n",
        "    .groupBy(\"month\", \"member_casual\") \\\n",
        "    .count()\n",
        "\n",
        "member_rides_over_time.show()\n",
        "\n",
        "# Convert to Pandas DataFrame for plotting\n",
        "member_rides_over_time_pd = member_rides_over_time.toPandas()\n",
        "member_rides_over_time_pd.pivot(index='month', columns='member_casual', values='count').plot(kind='bar', figsize=(12, 6))\n",
        "plt.title('Rides by Membership Type Over Time')\n",
        "plt.xlabel('Month')\n",
        "plt.ylabel('Number of Rides')\n",
        "plt.xticks(ticks=range(0, 12), labels=['Jan', 'Feb', 'Mar', 'Apr', 'May', 'Jun', 'Jul', 'Aug', 'Sep', 'Oct', 'Nov', 'Dec'])\n",
        "plt.show()"
      ],
      "metadata": {
        "colab": {
          "base_uri": "https://localhost:8080/",
          "height": 211
        },
        "id": "oVO4xVtVsihN",
        "outputId": "9da54c25-8f89-4dec-8c5e-7538bd9d560a"
      },
      "execution_count": null,
      "outputs": [
        {
          "output_type": "error",
          "ename": "NameError",
          "evalue": "name 'month' is not defined",
          "traceback": [
            "\u001b[0;31m---------------------------------------------------------------------------\u001b[0m",
            "\u001b[0;31mNameError\u001b[0m                                 Traceback (most recent call last)",
            "\u001b[0;32m<ipython-input-16-f48f9fd1bdd5>\u001b[0m in \u001b[0;36m<cell line: 2>\u001b[0;34m()\u001b[0m\n\u001b[1;32m      1\u001b[0m \u001b[0;31m# Group by membership type and date\u001b[0m\u001b[0;34m\u001b[0m\u001b[0;34m\u001b[0m\u001b[0m\n\u001b[0;32m----> 2\u001b[0;31m \u001b[0mmember_rides_over_time\u001b[0m \u001b[0;34m=\u001b[0m \u001b[0medf\u001b[0m\u001b[0;34m.\u001b[0m\u001b[0mwithColumn\u001b[0m\u001b[0;34m(\u001b[0m\u001b[0;34m\"month\"\u001b[0m\u001b[0;34m,\u001b[0m \u001b[0mmonth\u001b[0m\u001b[0;34m(\u001b[0m\u001b[0;34m\"started_at\"\u001b[0m\u001b[0;34m)\u001b[0m\u001b[0;34m)\u001b[0m\u001b[0;31m \u001b[0m\u001b[0;31m\\\u001b[0m\u001b[0;34m\u001b[0m\u001b[0;34m\u001b[0m\u001b[0m\n\u001b[0m\u001b[1;32m      3\u001b[0m     \u001b[0;34m.\u001b[0m\u001b[0mgroupBy\u001b[0m\u001b[0;34m(\u001b[0m\u001b[0;34m\"month\"\u001b[0m\u001b[0;34m,\u001b[0m \u001b[0;34m\"member_casual\"\u001b[0m\u001b[0;34m)\u001b[0m\u001b[0;31m \u001b[0m\u001b[0;31m\\\u001b[0m\u001b[0;34m\u001b[0m\u001b[0;34m\u001b[0m\u001b[0m\n\u001b[1;32m      4\u001b[0m     \u001b[0;34m.\u001b[0m\u001b[0mcount\u001b[0m\u001b[0;34m(\u001b[0m\u001b[0;34m)\u001b[0m\u001b[0;34m\u001b[0m\u001b[0;34m\u001b[0m\u001b[0m\n\u001b[1;32m      5\u001b[0m \u001b[0;34m\u001b[0m\u001b[0m\n",
            "\u001b[0;31mNameError\u001b[0m: name 'month' is not defined"
          ]
        }
      ]
    },
    {
      "cell_type": "code",
      "source": [
        "# Convert 'started_at' and 'ended_at' to timestamp\n",
        "df = df.withColumn(\"started_at\", col(\"started_at\").cast(\"timestamp\"))\n",
        "df = df.withColumn(\"ended_at\", col(\"ended_at\").cast(\"timestamp\"))\n",
        "\n",
        "# Extract day of week and hour from 'started_at' and 'ended_at'\n",
        "df = df.withColumn(\"start_dayofweek\", dayofweek(\"started_at\"))\n",
        "df = df.withColumn(\"start_hour\", hour(\"started_at\"))\n",
        "df = df.withColumn(\"end_dayofweek\", dayofweek(\"ended_at\"))\n",
        "df = df.withColumn(\"end_hour\", hour(\"ended_at\"))"
      ],
      "metadata": {
        "id": "sVrwomXfA6CV"
      },
      "execution_count": null,
      "outputs": []
    },
    {
      "cell_type": "code",
      "source": [
        "df.printSchema()\n",
        "\n",
        "df.show()\n",
        "df.count()"
      ],
      "metadata": {
        "colab": {
          "base_uri": "https://localhost:8080/"
        },
        "id": "hMyDfpbCFO8d",
        "outputId": "22378a47-e753-4b3e-8e02-5409f73b027d"
      },
      "execution_count": null,
      "outputs": [
        {
          "output_type": "stream",
          "name": "stdout",
          "text": [
            "root\n",
            " |-- ride_id: string (nullable = true)\n",
            " |-- rideable_type: string (nullable = true)\n",
            " |-- started_at: timestamp (nullable = true)\n",
            " |-- ended_at: timestamp (nullable = true)\n",
            " |-- start_station_name: string (nullable = true)\n",
            " |-- start_station_id: string (nullable = true)\n",
            " |-- end_station_name: string (nullable = true)\n",
            " |-- end_station_id: string (nullable = true)\n",
            " |-- start_lat: double (nullable = true)\n",
            " |-- start_lng: double (nullable = true)\n",
            " |-- end_lat: double (nullable = true)\n",
            " |-- end_lng: double (nullable = true)\n",
            " |-- member_casual: string (nullable = true)\n",
            " |-- start_dayofweek: integer (nullable = true)\n",
            " |-- start_hour: integer (nullable = true)\n",
            " |-- end_dayofweek: integer (nullable = true)\n",
            " |-- end_hour: integer (nullable = true)\n",
            "\n",
            "+----------------+-------------+-------------------+-------------------+--------------------+----------------+--------------------+--------------+------------+-------------+-----------------+------------------+-------------+---------------+----------+-------------+--------+\n",
            "|         ride_id|rideable_type|         started_at|           ended_at|  start_station_name|start_station_id|    end_station_name|end_station_id|   start_lat|    start_lng|          end_lat|           end_lng|member_casual|start_dayofweek|start_hour|end_dayofweek|end_hour|\n",
            "+----------------+-------------+-------------------+-------------------+--------------------+----------------+--------------------+--------------+------------+-------------+-----------------+------------------+-------------+---------------+----------+-------------+--------+\n",
            "|48878C314260EF1D| classic_bike|2023-11-03 17:48:21|2023-11-03 17:58:46|Queens Plaza Nort...|         6429.01|31 Ave & Steinway St|       6782.01| 40.75110662| -73.94087255|       40.7611488|       -73.9170071|       member|              6|        17|            6|      17|\n",
            "|9E0E1583031239C4| classic_bike|2023-11-01 12:54:59|2023-11-01 13:05:23|Queens Plaza Nort...|         6429.01|     E 74 St & 1 Ave|       6953.08|40.751232624|-73.940472007|       40.7689738|      -73.95482273|       member|              4|        12|            4|      13|\n",
            "|FEBB9109BCB32647| classic_bike|2023-11-13 12:23:29|2023-11-13 12:27:28|E 128 St & Madiso...|         7735.23|    E 138 St & 5 Ave|       7809.13|    40.80756|   -73.939182|         40.81449|        -73.936153|       member|              2|        12|            2|      12|\n",
            "|6E5C8C2B6D45B195| classic_bike|2023-11-27 08:49:26|2023-11-27 09:03:35|W 82 St & Central...|         7304.08|     E 74 St & 1 Ave|       6953.08|40.782863975|-73.971619368|       40.7689738|      -73.95482273|       member|              2|         8|            2|       9|\n",
            "|29175CDCC2735F4E| classic_bike|2023-11-14 19:20:04|2023-11-14 20:35:12|     8 Ave & W 33 St|         6450.12|                NULL|          NULL|40.751657009|-73.993606925|            40.78|            -73.97|       member|              3|        19|            3|      20|\n",
            "|A1717B24A900AD20| classic_bike|2023-11-05 22:53:05|2023-11-05 22:59:43|Nelson Ave & W 17...|         8290.01|    3 Ave & E 174 St|       8241.07|40.843870282|-73.921083212|         40.84224|          -73.8985|       member|              1|        22|            1|      22|\n",
            "|2E2C02C68B1E9043| classic_bike|2023-11-17 23:06:01|2023-11-17 23:12:02|  N 5 St & Wythe Ave|         5419.04|Bayard St & Leona...|       5442.05|   40.718389|   -73.961501|40.71915571696044|-73.94885390996933|       member|              6|        23|            6|      23|\n",
            "|45F70B86AECCFB15| classic_bike|2023-11-04 21:27:07|2023-11-04 23:12:37|     8 Ave & W 33 St|         6450.12|                NULL|          NULL|40.752040386|-73.993520617|            40.74|            -73.98|       member|              7|        21|            7|      23|\n",
            "|FA28D85063A2DA09| classic_bike|2023-11-27 10:32:25|2023-11-27 10:39:52|Sherman Ave & E 1...|         8072.06|    3 Ave & E 174 St|       8241.07|40.831282735|-73.917387962|         40.84224|          -73.8985|       member|              2|        10|            2|      10|\n",
            "|426C7A60C3122F65| classic_bike|2023-11-14 19:36:53|2023-11-14 19:48:47|W 82 St & Central...|         7304.08|     E 88 St & 1 Ave|       7235.13|40.783026695|-73.971754193|        40.778301|       -73.9488134|       member|              3|        19|            3|      19|\n",
            "|BB21D51811BF7A1C| classic_bike|2023-11-30 18:02:02|2023-11-30 18:21:31|     8 Ave & W 33 St|         6450.12|     E 45 St & 3 Ave|       6464.08|   40.751551|   -73.993934|      40.75255434|      -73.97282625|       member|              5|        18|            5|      18|\n",
            "|E13ACDB1230FF280| classic_bike|2023-11-12 10:55:27|2023-11-12 11:06:26|W 180 St & Ft Was...|         8358.03|W 148 St & Amster...|       8033.09| 40.84989357|-73.938559532|        40.827075|        -73.945909|       member|              1|        10|            1|      11|\n",
            "|8B71C176CE5274A4| classic_bike|2023-11-01 14:30:17|2023-11-01 14:46:26|Queens Plaza Nort...|         6429.01|31 Ave & Steinway St|       6782.01| 40.75110165| -73.94073717|       40.7611488|       -73.9170071|       member|              4|        14|            4|      14|\n",
            "|C67292CBD5CE394C| classic_bike|2023-11-26 00:44:03|2023-11-26 00:51:24| Broadway & W 165 St|         8191.01| Broadway & W 185 St|       8416.07|40.839038014|-73.941439509|        40.852538|         -73.93441|       member|              1|         0|            1|       0|\n",
            "|FB64188A65C277F9| classic_bike|2023-11-02 17:40:49|2023-11-02 23:50:14|Thompson St & Ble...|         5721.07|                NULL|          NULL|40.728157401| -73.99998796|            40.71|            -73.99|       member|              5|        17|            5|      23|\n",
            "|CF24D6F420AA77F1| classic_bike|2023-11-15 07:59:48|2023-11-15 08:16:15|E 128 St & Madiso...|         7735.23|     E 74 St & 1 Ave|       6953.08|40.807545424|-73.938857317|       40.7689738|      -73.95482273|       member|              4|         7|            4|       8|\n",
            "|0629D9ECD6E2DD02| classic_bike|2023-11-13 17:40:03|2023-11-13 17:44:28|E 128 St & Madiso...|         7735.23|St Nicholas Ave &...|       7756.10|40.807571888|-73.939142704|       40.8114323|       -73.9518776|       member|              2|        17|            2|      17|\n",
            "|8A28F0C65F004D71| classic_bike|2023-11-13 08:28:40|2023-11-13 09:31:15| Broadway & W 165 St|         8191.01|                NULL|          NULL|40.838931561|-73.941472888|            40.84|            -73.94|       member|              2|         8|            2|       9|\n",
            "|91F00F4CF0A0A6C8| classic_bike|2023-11-11 15:56:49|2023-11-11 16:01:25|E 128 St & Madiso...|         7735.23|St Nicholas Ave &...|       7756.10|40.807547927|-73.939084411|       40.8114323|       -73.9518776|       member|              7|        15|            7|      16|\n",
            "|45EE3ABAC28BE907| classic_bike|2023-11-18 21:12:35|2023-11-18 21:23:22|E 128 St & Madiso...|         7735.23|W 148 St & Amster...|       8033.09|40.807518005|-73.939022303|        40.827075|        -73.945909|       member|              7|        21|            7|      21|\n",
            "+----------------+-------------+-------------------+-------------------+--------------------+----------------+--------------------+--------------+------------+-------------+-----------------+------------------+-------------+---------------+----------+-------------+--------+\n",
            "only showing top 20 rows\n",
            "\n"
          ]
        },
        {
          "output_type": "execute_result",
          "data": {
            "text/plain": [
              "36226600"
            ]
          },
          "metadata": {},
          "execution_count": 18
        }
      ]
    },
    {
      "cell_type": "code",
      "source": [
        "df_cleaned = df.na.drop(subset=[\"start_station_id\"])\n",
        "df_cleaned = df_cleaned.na.drop(subset=[\"end_station_id\"])"
      ],
      "metadata": {
        "id": "Fhni6BYUXyUa"
      },
      "execution_count": null,
      "outputs": []
    },
    {
      "cell_type": "code",
      "source": [
        "df_cleaned.count()"
      ],
      "metadata": {
        "colab": {
          "base_uri": "https://localhost:8080/"
        },
        "id": "lttQREMYYBBR",
        "outputId": "93fabd62-2b92-4625-f0dd-a6b9be462347"
      },
      "execution_count": null,
      "outputs": [
        {
          "output_type": "execute_result",
          "data": {
            "text/plain": [
              "36117636"
            ]
          },
          "metadata": {},
          "execution_count": 31
        }
      ]
    },
    {
      "cell_type": "code",
      "source": [
        "df=df_cleaned"
      ],
      "metadata": {
        "id": "bOyKBdctYgmI"
      },
      "execution_count": null,
      "outputs": []
    },
    {
      "cell_type": "code",
      "source": [
        "from pyspark.sql import functions as F\n",
        "\n",
        "# Count the starts and ends at each station for each hour and day\n",
        "start_df = df.groupBy(\"start_station_id\", \"start_dayofweek\", \"start_hour\")\\\n",
        "             .count()\\\n",
        "             .withColumnRenamed(\"count\", \"start_count\")\\\n",
        "             .withColumnRenamed(\"start_station_id\", \"station_id\")\n",
        "\n",
        "end_df = df.groupBy(\"end_station_id\", \"end_dayofweek\", \"end_hour\")\\\n",
        "           .count()\\\n",
        "           .withColumnRenamed(\"count\", \"end_count\")\\\n",
        "           .withColumnRenamed(\"end_station_id\", \"station_id\")\n",
        "\n",
        "# Join starts and ends on station_id, dayofweek, and hour\n",
        "feature_df = start_df.join(end_df,\n",
        "                           (start_df.station_id == end_df.station_id) &\n",
        "                           (start_df.start_dayofweek == end_df.end_dayofweek) &\n",
        "                           (start_df.start_hour == end_df.end_hour),\n",
        "                           \"outer\")\\\n",
        "                     .fillna(0)\n",
        "\n",
        "# Calculate the differential\n",
        "# Join starts and ends on station_id, dayofweek, and hour, and rename columns as needed\n",
        "feature_df = start_df.join(\n",
        "    end_df,\n",
        "    (start_df.station_id == end_df.station_id) &\n",
        "    (start_df.start_dayofweek == end_df.end_dayofweek) &\n",
        "    (start_df.start_hour == end_df.end_hour),\n",
        "    \"outer\"\n",
        ").select(\n",
        "    start_df.station_id,  # This ensures that the 'station_id' referenced post-join is unambiguous\n",
        "    start_df.start_dayofweek.alias(\"dayofweek\"),\n",
        "    start_df.start_hour.alias(\"hour\"),\n",
        "    start_df.start_count,\n",
        "    end_df.end_count\n",
        ").fillna(0)\n",
        "\n",
        "# Calculate the differential\n",
        "feature_df = feature_df.withColumn(\"bike_availability_diff\", feature_df.start_count - feature_df.end_count)"
      ],
      "metadata": {
        "id": "X7S5Z1r0BPdE"
      },
      "execution_count": null,
      "outputs": []
    },
    {
      "cell_type": "code",
      "source": [
        "def get_bike_availability_diff(feature_df, station_id, dayofweek, hour):\n",
        "    # Filter the DataFrame for the given station_id, dayofweek, and hour\n",
        "    result = feature_df.filter(\n",
        "        (feature_df.station_id == station_id) &\n",
        "        (feature_df.dayofweek == dayofweek) &\n",
        "        (feature_df.hour == hour)\n",
        "    ).select(\"station_id\", \"dayofweek\", \"hour\", \"bike_availability_diff\")\n",
        "\n",
        "    return result\n",
        "\n",
        "# Example Usage\n",
        "station_id = '5329.03'  # replace with actual station_id\n",
        "dayofweek = 3  # replace with actual dayofweek (1=Monday, 7=Sunday)\n",
        "hour = 15  # replace with actual hour (0-23)\n",
        "result = get_bike_availability_diff(feature_df, station_id, dayofweek, hour)\n",
        "result.show()"
      ],
      "metadata": {
        "colab": {
          "base_uri": "https://localhost:8080/"
        },
        "id": "jGNwuve0hX4h",
        "outputId": "73def9e8-568d-4838-fe09-411eda1241e5"
      },
      "execution_count": null,
      "outputs": [
        {
          "output_type": "stream",
          "name": "stdout",
          "text": [
            "+----------+---------+----+----------------------+\n",
            "|station_id|dayofweek|hour|bike_availability_diff|\n",
            "+----------+---------+----+----------------------+\n",
            "|   5329.03|        3|  15|                    84|\n",
            "+----------+---------+----+----------------------+\n",
            "\n"
          ]
        }
      ]
    },
    {
      "cell_type": "code",
      "source": [
        "output_path = \"/tmp/bike_diff\"\n",
        "\n",
        "# Coalesce the DataFrame to 1 partition (use cautiously)\n",
        "feature_df.coalesce(1).write.option(\"header\", \"true\").csv(output_path)\n",
        "\n",
        "print(f\"DataFrame coalesced and written to a single CSV at {output_path}\")"
      ],
      "metadata": {
        "colab": {
          "base_uri": "https://localhost:8080/"
        },
        "id": "bxTk9MV6lnCn",
        "outputId": "c9875696-e176-4f4f-9eeb-53c27372203f"
      },
      "execution_count": null,
      "outputs": [
        {
          "output_type": "stream",
          "name": "stdout",
          "text": [
            "DataFrame coalesced and written to a single CSV at /tmp/bike_diff\n"
          ]
        }
      ]
    },
    {
      "cell_type": "code",
      "source": [
        "start_df.show(10)"
      ],
      "metadata": {
        "colab": {
          "base_uri": "https://localhost:8080/"
        },
        "id": "6vvpw47dPIIM",
        "outputId": "b1b91383-c978-4ff9-8d5f-eb2060aceeb0"
      },
      "execution_count": null,
      "outputs": [
        {
          "output_type": "stream",
          "name": "stdout",
          "text": [
            "+----------+---------------+----------+-----------+\n",
            "|station_id|start_dayofweek|start_hour|start_count|\n",
            "+----------+---------------+----------+-----------+\n",
            "|   6398.06|              1|        17|        257|\n",
            "|   7327.01|              3|        17|        233|\n",
            "|   6140.05|              7|        14|       1403|\n",
            "|   4672.01|              5|         8|         82|\n",
            "|   5300.06|              5|        15|         83|\n",
            "|   5610.09|              3|        16|        610|\n",
            "|   5065.14|              2|        17|        418|\n",
            "|   5450.04|              4|        22|        347|\n",
            "|   6089.08|              3|        21|        261|\n",
            "|   4526.01|              7|         0|         71|\n",
            "+----------+---------------+----------+-----------+\n",
            "only showing top 10 rows\n",
            "\n"
          ]
        }
      ]
    },
    {
      "cell_type": "code",
      "source": [
        "end_df.show(10)"
      ],
      "metadata": {
        "colab": {
          "base_uri": "https://localhost:8080/"
        },
        "id": "5zC0NOkfPL0l",
        "outputId": "c784ebb7-431f-4575-b995-ed10073f97f0"
      },
      "execution_count": null,
      "outputs": [
        {
          "output_type": "stream",
          "name": "stdout",
          "text": [
            "+----------+-------------+--------+---------+\n",
            "|station_id|end_dayofweek|end_hour|end_count|\n",
            "+----------+-------------+--------+---------+\n",
            "|   7327.01|            3|      17|      222|\n",
            "|   6115.06|            7|      14|      623|\n",
            "|   5148.03|            7|      13|      204|\n",
            "|   5148.03|            3|       1|       20|\n",
            "|   6398.06|            4|      21|      164|\n",
            "|   8403.02|            5|      22|       24|\n",
            "|   6398.06|            1|      17|      246|\n",
            "|   5066.03|            1|       3|       13|\n",
            "|   7727.07|            6|      23|       23|\n",
            "|   5170.01|            1|      17|       82|\n",
            "+----------+-------------+--------+---------+\n",
            "only showing top 10 rows\n",
            "\n"
          ]
        }
      ]
    },
    {
      "cell_type": "code",
      "source": [],
      "metadata": {
        "id": "cHSB3pkHgVWS"
      },
      "execution_count": null,
      "outputs": []
    },
    {
      "cell_type": "code",
      "source": [
        "from pyspark.ml.feature import StringIndexer, VectorAssembler\n",
        "from pyspark.ml.regression import RandomForestRegressor\n",
        "from pyspark.ml import Pipeline\n",
        "\n",
        "# Index station_id if it's categorical\n",
        "indexer = StringIndexer(inputCol=\"station_id\", outputCol=\"station_id_indexed\")\n",
        "\n",
        "# Assemble features including the indexed station_id\n",
        "assembler = VectorAssembler(inputCols=[\"station_id_indexed\", \"dayofweek\", \"hour\"], outputCol=\"features\")\n",
        "\n",
        "# Define the model\n",
        "rf = RandomForestRegressor(featuresCol=\"features\", labelCol=\"bike_availability_diff\", maxBins=2400)\n",
        "\n",
        "# Create the pipeline with the indexer and assembler\n",
        "pipeline = Pipeline(stages=[indexer, assembler, rf])\n",
        "\n",
        "# Assuming feature_df_cleaned has been properly prepared and includes 'station_id'\n",
        "train_data, test_data = feature_df_cleaned.randomSplit([0.8, 0.2])\n",
        "\n",
        "# Train the model\n",
        "model = pipeline.fit(train_data)"
      ],
      "metadata": {
        "id": "hAIwpf25GddI"
      },
      "execution_count": null,
      "outputs": []
    },
    {
      "cell_type": "code",
      "source": [
        "indexer_model = indexer.fit(train_data)\n"
      ],
      "metadata": {
        "id": "oV7HQfcdaaJq"
      },
      "execution_count": null,
      "outputs": []
    },
    {
      "cell_type": "code",
      "source": [
        "from pyspark.ml.evaluation import RegressionEvaluator\n",
        "\n",
        "# Make predictions\n",
        "predictions = model.transform(test_data)\n",
        "#predictions\n",
        "# Evaluate the model\n",
        "#evaluator = RegressionEvaluator(labelCol=\"bike_availability_diff\", predictionCol=\"prediction\", metricName=\"rmse\")\n",
        "#rmse = evaluator.evaluate(predictions)\n",
        "#print(\"Root Mean Squared Error (RMSE) on test data =\", rmse)"
      ],
      "metadata": {
        "colab": {
          "base_uri": "https://localhost:8080/"
        },
        "id": "Lt0NhCWlH29f",
        "outputId": "7bd07553-182f-4d5c-eb27-b1481bcc7003"
      },
      "execution_count": null,
      "outputs": [
        {
          "output_type": "stream",
          "name": "stdout",
          "text": [
            "DataFrame[station_id: string, dayofweek: int, hour: int, start_count: bigint, end_count: bigint, bike_availability_diff: bigint, station_id_indexed: double, features: vector, prediction: double]\n"
          ]
        }
      ]
    },
    {
      "cell_type": "code",
      "source": [
        "import pickle\n",
        "\n",
        "# Create a file object for the model.\n",
        "with open(\"/tmp/rf_model.pkl\", \"wb\") as f:\n",
        "    # Use the pickle.dump() function to serialize the model to the file.\n",
        "    pickle.dump(model, f)\n",
        "\n",
        "# Close the file.\n",
        "f.close()"
      ],
      "metadata": {
        "colab": {
          "base_uri": "https://localhost:8080/",
          "height": 211
        },
        "id": "9LndIh7zNfXI",
        "outputId": "13dee17b-316c-4caa-efea-d84b964500c6"
      },
      "execution_count": null,
      "outputs": [
        {
          "output_type": "error",
          "ename": "TypeError",
          "evalue": "cannot pickle '_thread.RLock' object",
          "traceback": [
            "\u001b[0;31m---------------------------------------------------------------------------\u001b[0m",
            "\u001b[0;31mTypeError\u001b[0m                                 Traceback (most recent call last)",
            "\u001b[0;32m<ipython-input-29-f47cb1be8ae6>\u001b[0m in \u001b[0;36m<cell line: 4>\u001b[0;34m()\u001b[0m\n\u001b[1;32m      4\u001b[0m \u001b[0;32mwith\u001b[0m \u001b[0mopen\u001b[0m\u001b[0;34m(\u001b[0m\u001b[0;34m\"/tmp/rf_model.pkl\"\u001b[0m\u001b[0;34m,\u001b[0m \u001b[0;34m\"wb\"\u001b[0m\u001b[0;34m)\u001b[0m \u001b[0;32mas\u001b[0m \u001b[0mf\u001b[0m\u001b[0;34m:\u001b[0m\u001b[0;34m\u001b[0m\u001b[0;34m\u001b[0m\u001b[0m\n\u001b[1;32m      5\u001b[0m     \u001b[0;31m# Use the pickle.dump() function to serialize the model to the file.\u001b[0m\u001b[0;34m\u001b[0m\u001b[0;34m\u001b[0m\u001b[0m\n\u001b[0;32m----> 6\u001b[0;31m     \u001b[0mpickle\u001b[0m\u001b[0;34m.\u001b[0m\u001b[0mdump\u001b[0m\u001b[0;34m(\u001b[0m\u001b[0mmodel\u001b[0m\u001b[0;34m,\u001b[0m \u001b[0mf\u001b[0m\u001b[0;34m)\u001b[0m\u001b[0;34m\u001b[0m\u001b[0;34m\u001b[0m\u001b[0m\n\u001b[0m\u001b[1;32m      7\u001b[0m \u001b[0;34m\u001b[0m\u001b[0m\n\u001b[1;32m      8\u001b[0m \u001b[0;31m# Close the file.\u001b[0m\u001b[0;34m\u001b[0m\u001b[0;34m\u001b[0m\u001b[0m\n",
            "\u001b[0;31mTypeError\u001b[0m: cannot pickle '_thread.RLock' object"
          ]
        }
      ]
    },
    {
      "cell_type": "code",
      "source": [
        "model_path = \"/content/drive/MyDrive/spark_rf_model\"\n",
        "model.write().overwrite().save(model_path)"
      ],
      "metadata": {
        "id": "pfMer4dKJZSn"
      },
      "execution_count": null,
      "outputs": []
    },
    {
      "cell_type": "code",
      "source": [
        "from pyspark.ml import PipelineModel\n",
        "\n",
        "# Test data - ensuring we use the original labels as expected by the full pipeline\n",
        "test_data = [(\"6140.05\", 5, 1)]  # 'station_id' as a string, 'dayofweek', 'hour'\n",
        "\n",
        "# Create a DataFrame with the correct initial column names\n",
        "test_df = spark.createDataFrame(test_data, [\"station_id\", \"dayofweek\", \"hour\"])\n",
        "\n",
        "# Load the complete PipelineModel which should include all transformations (indexing, vector assembling)\n",
        "# and the regression model. Assuming it has been previously saved after full training.\n",
        "model_path = \"/tmp/spark_rf_model\"\n",
        "model = PipelineModel.load(model_path)\n",
        "\n",
        "# Make predictions using the complete pipeline model on the test data\n",
        "predictions = model.transform(test_df)\n",
        "\n",
        "# Show predictions\n",
        "predictions.select(\"features\", \"prediction\").show()"
      ],
      "metadata": {
        "colab": {
          "base_uri": "https://localhost:8080/"
        },
        "id": "-nIxG_33KJAH",
        "outputId": "f78cbeff-d44f-4108-ffab-cdc032332cf1"
      },
      "execution_count": null,
      "outputs": [
        {
          "output_type": "stream",
          "name": "stdout",
          "text": [
            "+---------------+-------------------+\n",
            "|       features|         prediction|\n",
            "+---------------+-------------------+\n",
            "|[417.0,5.0,1.0]|-28.985569167705854|\n",
            "+---------------+-------------------+\n",
            "\n"
          ]
        }
      ]
    },
    {
      "cell_type": "code",
      "source": [
        "feature_df.printSchema()\n"
      ],
      "metadata": {
        "colab": {
          "base_uri": "https://localhost:8080/",
          "height": 651
        },
        "id": "0BbfZ-JnBaNb",
        "outputId": "e6d2a033-c9c4-44e7-c44c-56f11b1b04fb"
      },
      "execution_count": null,
      "outputs": [
        {
          "output_type": "stream",
          "name": "stdout",
          "text": [
            "root\n",
            " |-- station_id: string (nullable = true)\n",
            " |-- start_dayofweek: integer (nullable = true)\n",
            " |-- start_hour: integer (nullable = true)\n",
            " |-- start_count: long (nullable = true)\n",
            " |-- station_id: string (nullable = true)\n",
            " |-- end_dayofweek: integer (nullable = true)\n",
            " |-- end_hour: integer (nullable = true)\n",
            " |-- end_count: long (nullable = true)\n",
            " |-- bike_availability_diff: long (nullable = true)\n",
            "\n"
          ]
        },
        {
          "output_type": "stream",
          "name": "stderr",
          "text": [
            "ERROR:root:KeyboardInterrupt while sending command.\n",
            "Traceback (most recent call last):\n",
            "  File \"/usr/local/lib/python3.10/dist-packages/py4j/java_gateway.py\", line 1038, in send_command\n",
            "    response = connection.send_command(command)\n",
            "  File \"/usr/local/lib/python3.10/dist-packages/py4j/clientserver.py\", line 511, in send_command\n",
            "    answer = smart_decode(self.stream.readline()[:-1])\n",
            "  File \"/usr/lib/python3.10/socket.py\", line 705, in readinto\n",
            "    return self._sock.recv_into(b)\n",
            "KeyboardInterrupt\n"
          ]
        },
        {
          "output_type": "error",
          "ename": "KeyboardInterrupt",
          "evalue": "",
          "traceback": [
            "\u001b[0;31m---------------------------------------------------------------------------\u001b[0m",
            "\u001b[0;31mKeyboardInterrupt\u001b[0m                         Traceback (most recent call last)",
            "\u001b[0;32m<ipython-input-43-8f5a9e3216d0>\u001b[0m in \u001b[0;36m<cell line: 2>\u001b[0;34m()\u001b[0m\n\u001b[1;32m      1\u001b[0m \u001b[0mfeature_df\u001b[0m\u001b[0;34m.\u001b[0m\u001b[0mprintSchema\u001b[0m\u001b[0;34m(\u001b[0m\u001b[0;34m)\u001b[0m\u001b[0;34m\u001b[0m\u001b[0;34m\u001b[0m\u001b[0m\n\u001b[0;32m----> 2\u001b[0;31m \u001b[0mfeature_df\u001b[0m\u001b[0;34m.\u001b[0m\u001b[0mcount\u001b[0m\u001b[0;34m(\u001b[0m\u001b[0;34m)\u001b[0m\u001b[0;34m\u001b[0m\u001b[0;34m\u001b[0m\u001b[0m\n\u001b[0m",
            "\u001b[0;32m/usr/local/lib/python3.10/dist-packages/pyspark/sql/dataframe.py\u001b[0m in \u001b[0;36mcount\u001b[0;34m(self)\u001b[0m\n\u001b[1;32m   1236\u001b[0m         \u001b[0;36m3\u001b[0m\u001b[0;34m\u001b[0m\u001b[0;34m\u001b[0m\u001b[0m\n\u001b[1;32m   1237\u001b[0m         \"\"\"\n\u001b[0;32m-> 1238\u001b[0;31m         \u001b[0;32mreturn\u001b[0m \u001b[0mint\u001b[0m\u001b[0;34m(\u001b[0m\u001b[0mself\u001b[0m\u001b[0;34m.\u001b[0m\u001b[0m_jdf\u001b[0m\u001b[0;34m.\u001b[0m\u001b[0mcount\u001b[0m\u001b[0;34m(\u001b[0m\u001b[0;34m)\u001b[0m\u001b[0;34m)\u001b[0m\u001b[0;34m\u001b[0m\u001b[0;34m\u001b[0m\u001b[0m\n\u001b[0m\u001b[1;32m   1239\u001b[0m \u001b[0;34m\u001b[0m\u001b[0m\n\u001b[1;32m   1240\u001b[0m     \u001b[0;32mdef\u001b[0m \u001b[0mcollect\u001b[0m\u001b[0;34m(\u001b[0m\u001b[0mself\u001b[0m\u001b[0;34m)\u001b[0m \u001b[0;34m->\u001b[0m \u001b[0mList\u001b[0m\u001b[0;34m[\u001b[0m\u001b[0mRow\u001b[0m\u001b[0;34m]\u001b[0m\u001b[0;34m:\u001b[0m\u001b[0;34m\u001b[0m\u001b[0;34m\u001b[0m\u001b[0m\n",
            "\u001b[0;32m/usr/local/lib/python3.10/dist-packages/py4j/java_gateway.py\u001b[0m in \u001b[0;36m__call__\u001b[0;34m(self, *args)\u001b[0m\n\u001b[1;32m   1319\u001b[0m             \u001b[0mproto\u001b[0m\u001b[0;34m.\u001b[0m\u001b[0mEND_COMMAND_PART\u001b[0m\u001b[0;34m\u001b[0m\u001b[0;34m\u001b[0m\u001b[0m\n\u001b[1;32m   1320\u001b[0m \u001b[0;34m\u001b[0m\u001b[0m\n\u001b[0;32m-> 1321\u001b[0;31m         \u001b[0manswer\u001b[0m \u001b[0;34m=\u001b[0m \u001b[0mself\u001b[0m\u001b[0;34m.\u001b[0m\u001b[0mgateway_client\u001b[0m\u001b[0;34m.\u001b[0m\u001b[0msend_command\u001b[0m\u001b[0;34m(\u001b[0m\u001b[0mcommand\u001b[0m\u001b[0;34m)\u001b[0m\u001b[0;34m\u001b[0m\u001b[0;34m\u001b[0m\u001b[0m\n\u001b[0m\u001b[1;32m   1322\u001b[0m         return_value = get_return_value(\n\u001b[1;32m   1323\u001b[0m             answer, self.gateway_client, self.target_id, self.name)\n",
            "\u001b[0;32m/usr/local/lib/python3.10/dist-packages/py4j/java_gateway.py\u001b[0m in \u001b[0;36msend_command\u001b[0;34m(self, command, retry, binary)\u001b[0m\n\u001b[1;32m   1036\u001b[0m         \u001b[0mconnection\u001b[0m \u001b[0;34m=\u001b[0m \u001b[0mself\u001b[0m\u001b[0;34m.\u001b[0m\u001b[0m_get_connection\u001b[0m\u001b[0;34m(\u001b[0m\u001b[0;34m)\u001b[0m\u001b[0;34m\u001b[0m\u001b[0;34m\u001b[0m\u001b[0m\n\u001b[1;32m   1037\u001b[0m         \u001b[0;32mtry\u001b[0m\u001b[0;34m:\u001b[0m\u001b[0;34m\u001b[0m\u001b[0;34m\u001b[0m\u001b[0m\n\u001b[0;32m-> 1038\u001b[0;31m             \u001b[0mresponse\u001b[0m \u001b[0;34m=\u001b[0m \u001b[0mconnection\u001b[0m\u001b[0;34m.\u001b[0m\u001b[0msend_command\u001b[0m\u001b[0;34m(\u001b[0m\u001b[0mcommand\u001b[0m\u001b[0;34m)\u001b[0m\u001b[0;34m\u001b[0m\u001b[0;34m\u001b[0m\u001b[0m\n\u001b[0m\u001b[1;32m   1039\u001b[0m             \u001b[0;32mif\u001b[0m \u001b[0mbinary\u001b[0m\u001b[0;34m:\u001b[0m\u001b[0;34m\u001b[0m\u001b[0;34m\u001b[0m\u001b[0m\n\u001b[1;32m   1040\u001b[0m                 \u001b[0;32mreturn\u001b[0m \u001b[0mresponse\u001b[0m\u001b[0;34m,\u001b[0m \u001b[0mself\u001b[0m\u001b[0;34m.\u001b[0m\u001b[0m_create_connection_guard\u001b[0m\u001b[0;34m(\u001b[0m\u001b[0mconnection\u001b[0m\u001b[0;34m)\u001b[0m\u001b[0;34m\u001b[0m\u001b[0;34m\u001b[0m\u001b[0m\n",
            "\u001b[0;32m/usr/local/lib/python3.10/dist-packages/py4j/clientserver.py\u001b[0m in \u001b[0;36msend_command\u001b[0;34m(self, command)\u001b[0m\n\u001b[1;32m    509\u001b[0m         \u001b[0;32mtry\u001b[0m\u001b[0;34m:\u001b[0m\u001b[0;34m\u001b[0m\u001b[0;34m\u001b[0m\u001b[0m\n\u001b[1;32m    510\u001b[0m             \u001b[0;32mwhile\u001b[0m \u001b[0;32mTrue\u001b[0m\u001b[0;34m:\u001b[0m\u001b[0;34m\u001b[0m\u001b[0;34m\u001b[0m\u001b[0m\n\u001b[0;32m--> 511\u001b[0;31m                 \u001b[0manswer\u001b[0m \u001b[0;34m=\u001b[0m \u001b[0msmart_decode\u001b[0m\u001b[0;34m(\u001b[0m\u001b[0mself\u001b[0m\u001b[0;34m.\u001b[0m\u001b[0mstream\u001b[0m\u001b[0;34m.\u001b[0m\u001b[0mreadline\u001b[0m\u001b[0;34m(\u001b[0m\u001b[0;34m)\u001b[0m\u001b[0;34m[\u001b[0m\u001b[0;34m:\u001b[0m\u001b[0;34m-\u001b[0m\u001b[0;36m1\u001b[0m\u001b[0;34m]\u001b[0m\u001b[0;34m)\u001b[0m\u001b[0;34m\u001b[0m\u001b[0;34m\u001b[0m\u001b[0m\n\u001b[0m\u001b[1;32m    512\u001b[0m                 \u001b[0mlogger\u001b[0m\u001b[0;34m.\u001b[0m\u001b[0mdebug\u001b[0m\u001b[0;34m(\u001b[0m\u001b[0;34m\"Answer received: {0}\"\u001b[0m\u001b[0;34m.\u001b[0m\u001b[0mformat\u001b[0m\u001b[0;34m(\u001b[0m\u001b[0manswer\u001b[0m\u001b[0;34m)\u001b[0m\u001b[0;34m)\u001b[0m\u001b[0;34m\u001b[0m\u001b[0;34m\u001b[0m\u001b[0m\n\u001b[1;32m    513\u001b[0m                 \u001b[0;31m# Happens when a the other end is dead. There might be an empty\u001b[0m\u001b[0;34m\u001b[0m\u001b[0;34m\u001b[0m\u001b[0m\n",
            "\u001b[0;32m/usr/lib/python3.10/socket.py\u001b[0m in \u001b[0;36mreadinto\u001b[0;34m(self, b)\u001b[0m\n\u001b[1;32m    703\u001b[0m         \u001b[0;32mwhile\u001b[0m \u001b[0;32mTrue\u001b[0m\u001b[0;34m:\u001b[0m\u001b[0;34m\u001b[0m\u001b[0;34m\u001b[0m\u001b[0m\n\u001b[1;32m    704\u001b[0m             \u001b[0;32mtry\u001b[0m\u001b[0;34m:\u001b[0m\u001b[0;34m\u001b[0m\u001b[0;34m\u001b[0m\u001b[0m\n\u001b[0;32m--> 705\u001b[0;31m                 \u001b[0;32mreturn\u001b[0m \u001b[0mself\u001b[0m\u001b[0;34m.\u001b[0m\u001b[0m_sock\u001b[0m\u001b[0;34m.\u001b[0m\u001b[0mrecv_into\u001b[0m\u001b[0;34m(\u001b[0m\u001b[0mb\u001b[0m\u001b[0;34m)\u001b[0m\u001b[0;34m\u001b[0m\u001b[0;34m\u001b[0m\u001b[0m\n\u001b[0m\u001b[1;32m    706\u001b[0m             \u001b[0;32mexcept\u001b[0m \u001b[0mtimeout\u001b[0m\u001b[0;34m:\u001b[0m\u001b[0;34m\u001b[0m\u001b[0;34m\u001b[0m\u001b[0m\n\u001b[1;32m    707\u001b[0m                 \u001b[0mself\u001b[0m\u001b[0;34m.\u001b[0m\u001b[0m_timeout_occurred\u001b[0m \u001b[0;34m=\u001b[0m \u001b[0;32mTrue\u001b[0m\u001b[0;34m\u001b[0m\u001b[0;34m\u001b[0m\u001b[0m\n",
            "\u001b[0;31mKeyboardInterrupt\u001b[0m: "
          ]
        }
      ]
    },
    {
      "cell_type": "code",
      "source": [
        "feature_df.tail(10)"
      ],
      "metadata": {
        "colab": {
          "base_uri": "https://localhost:8080/"
        },
        "id": "Ye8lN7aeCqEz",
        "outputId": "02dcd86b-e240-4277-ef50-c6e36c1edb12"
      },
      "execution_count": null,
      "outputs": [
        {
          "output_type": "execute_result",
          "data": {
            "text/plain": [
              "[Row(station_id='SYS038', dayofweek=4, hour=23, start_count=1, end_count=14, bike_availability_diff=-13),\n",
              " Row(station_id='SYS038', dayofweek=5, hour=1, start_count=0, end_count=1, bike_availability_diff=-1),\n",
              " Row(station_id='SYS038', dayofweek=5, hour=2, start_count=0, end_count=2, bike_availability_diff=-2),\n",
              " Row(station_id='SYS038', dayofweek=5, hour=15, start_count=1, end_count=20, bike_availability_diff=-19),\n",
              " Row(station_id='SYS038', dayofweek=6, hour=3, start_count=0, end_count=3, bike_availability_diff=-3),\n",
              " Row(station_id='SYS038', dayofweek=6, hour=10, start_count=0, end_count=9, bike_availability_diff=-9),\n",
              " Row(station_id='SYS038', dayofweek=6, hour=20, start_count=0, end_count=10, bike_availability_diff=-10),\n",
              " Row(station_id='SYS038', dayofweek=6, hour=23, start_count=0, end_count=2, bike_availability_diff=-2),\n",
              " Row(station_id='SYS038', dayofweek=7, hour=2, start_count=0, end_count=2, bike_availability_diff=-2),\n",
              " Row(station_id='SYS039', dayofweek=5, hour=12, start_count=6, end_count=6, bike_availability_diff=0)]"
            ]
          },
          "metadata": {},
          "execution_count": 75
        }
      ]
    },
    {
      "cell_type": "code",
      "source": [
        "feature_df_cleaned = feature_df.na.drop(subset=[\"station_id\"])\n",
        "\n",
        "# Show the cleaned DataFrame to verify that rows with null 'station_id' have been removed\n",
        "#feature_df_cleaned.count()"
      ],
      "metadata": {
        "id": "_j9RTJD-IG-Y"
      },
      "execution_count": null,
      "outputs": []
    },
    {
      "cell_type": "code",
      "source": [
        "feature_df.count()"
      ],
      "metadata": {
        "colab": {
          "base_uri": "https://localhost:8080/"
        },
        "id": "Ds1wqBWVQZaE",
        "outputId": "d4b0d114-9ed8-440a-edde-a3d652d50805"
      },
      "execution_count": null,
      "outputs": [
        {
          "output_type": "execute_result",
          "data": {
            "text/plain": [
              "367356"
            ]
          },
          "metadata": {},
          "execution_count": 58
        }
      ]
    },
    {
      "cell_type": "code",
      "source": [
        "from pyspark.sql.functions import col, when\n",
        "\n",
        "# Assume start_df and end_df have been created correctly\n",
        "# Now let's fix the join operation:\n",
        "\n",
        "# First, ensure the columns are correctly named and match for the join\n",
        "start_df = start_df.withColumnRenamed(\"start_station_id\", \"station_id\")\\\n",
        "                   .withColumnRenamed(\"start_dayofweek\", \"dayofweek\")\\\n",
        "                   .withColumnRenamed(\"start_hour\", \"hour\")\n",
        "\n",
        "end_df = end_df.withColumnRenamed(\"end_station_id\", \"station_id\")\\\n",
        "               .withColumnRenamed(\"end_dayofweek\", \"dayofweek\")\\\n",
        "               .withColumnRenamed(\"end_hour\", \"hour\")\n",
        "\n",
        "# Join starts and ends on station_id, dayofweek, and hour\n",
        "feature_df = start_df.join(end_df, [\"station_id\", \"dayofweek\", \"hour\"], \"outer\").fillna(0)\n",
        "\n",
        "# Compute the bike availability differential\n",
        "feature_df = feature_df.withColumn(\"bike_availability_diff\", feature_df.start_count - feature_df.end_count)\n",
        "\n",
        "# Optionally, select and reorder columns to make it clearer\n",
        "feature_df = feature_df.select(\"station_id\", \"dayofweek\", \"hour\", \"start_count\", \"end_count\", \"bike_availability_diff\")\n",
        "\n",
        "# Show the resulting DataFrame\n",
        "feature_df.show()"
      ],
      "metadata": {
        "colab": {
          "base_uri": "https://localhost:8080/"
        },
        "id": "q7FDb67-aSBt",
        "outputId": "9acea8fa-2ad5-4112-a5e8-2ed66f4bf116"
      },
      "execution_count": null,
      "outputs": [
        {
          "output_type": "stream",
          "name": "stdout",
          "text": [
            "+----------+---------+----+-----------+---------+----------------------+\n",
            "|station_id|dayofweek|hour|start_count|end_count|bike_availability_diff|\n",
            "+----------+---------+----+-----------+---------+----------------------+\n",
            "|      NULL|        1|   0|         71|        0|                    71|\n",
            "|      NULL|        1|   1|         66|        0|                    66|\n",
            "|      NULL|        1|   2|         51|        0|                    51|\n",
            "|      NULL|        1|   3|         38|        0|                    38|\n",
            "|      NULL|        1|   7|         40|        0|                    40|\n",
            "|      NULL|        1|   9|        105|        0|                   105|\n",
            "|      NULL|        1|  20|         89|        0|                    89|\n",
            "|      NULL|        1|  22|         46|        0|                    46|\n",
            "|      NULL|        2|   2|         16|        0|                    16|\n",
            "|      NULL|        2|   3|         13|        0|                    13|\n",
            "|      NULL|        2|  14|        224|        0|                   224|\n",
            "|      NULL|        2|  17|        191|        0|                   191|\n",
            "|      NULL|        2|  19|        126|        0|                   126|\n",
            "|      NULL|        2|  22|         59|        0|                    59|\n",
            "|      NULL|        3|   1|         23|        0|                    23|\n",
            "|      NULL|        3|   5|         33|        0|                    33|\n",
            "|      NULL|        3|  10|        143|        0|                   143|\n",
            "|      NULL|        3|  13|        150|        0|                   150|\n",
            "|      NULL|        3|  15|        182|        0|                   182|\n",
            "|      NULL|        3|  18|        184|        0|                   184|\n",
            "+----------+---------+----+-----------+---------+----------------------+\n",
            "only showing top 20 rows\n",
            "\n"
          ]
        }
      ]
    },
    {
      "cell_type": "code",
      "source": [
        "start_df.select(\"station_id\").distinct().show()\n",
        "end_df.select(\"station_id\").distinct().show()"
      ],
      "metadata": {
        "colab": {
          "base_uri": "https://localhost:8080/"
        },
        "id": "InCLqCJEbu1E",
        "outputId": "8b80b37d-ef9e-4098-8ae0-575ee01b2b6f"
      },
      "execution_count": null,
      "outputs": [
        {
          "output_type": "stream",
          "name": "stdout",
          "text": [
            "+----------+\n",
            "|station_id|\n",
            "+----------+\n",
            "|   7790.04|\n",
            "|   5902.07|\n",
            "|   5922.08|\n",
            "|   6248.06|\n",
            "|    5470.1|\n",
            "|   7722.06|\n",
            "|   8049.05|\n",
            "|   4677.06|\n",
            "|   8198.05|\n",
            "|   3394.03|\n",
            "|   4157.10|\n",
            "|   7541.01|\n",
            "|   5128.04|\n",
            "|   6306.01|\n",
            "|   7738.04|\n",
            "|   6471.02|\n",
            "|   7940.02|\n",
            "|   5570.04|\n",
            "|   8458.03|\n",
            "|   3526.06|\n",
            "+----------+\n",
            "only showing top 20 rows\n",
            "\n",
            "+----------+\n",
            "|station_id|\n",
            "+----------+\n",
            "|   7790.04|\n",
            "|   7940.02|\n",
            "|     HB103|\n",
            "|   4374.01|\n",
            "|     JC072|\n",
            "|     HB301|\n",
            "|   8123.02|\n",
            "|   8122.04|\n",
            "|   4648.03|\n",
            "|   6151.03|\n",
            "|   4735.16|\n",
            "|   3811.05|\n",
            "|   3736.04|\n",
            "|   6131.12|\n",
            "|   4293.05|\n",
            "|   4903.09|\n",
            "|   4019.06|\n",
            "|   4862.04|\n",
            "|   6058.08|\n",
            "|   5021.05|\n",
            "+----------+\n",
            "only showing top 20 rows\n",
            "\n"
          ]
        }
      ]
    },
    {
      "cell_type": "code",
      "source": [
        "data = pd.read_csv('/tmp/aq/201306-citibike-tripdata.csv')"
      ],
      "metadata": {
        "id": "g3XjOMRTuwOY"
      },
      "execution_count": null,
      "outputs": []
    },
    {
      "cell_type": "code",
      "source": [
        "data = pd.read_csv('/content/drive/MyDrive/JC-202403-citibike-tripdata.csv')"
      ],
      "metadata": {
        "id": "bXxgBzoMkSl_"
      },
      "execution_count": null,
      "outputs": []
    },
    {
      "cell_type": "code",
      "source": [
        "print(data.shape)\n",
        "data.head()"
      ],
      "metadata": {
        "colab": {
          "base_uri": "https://localhost:8080/",
          "height": 417
        },
        "id": "PqNDgXfSk62N",
        "outputId": "89296cf2-1281-4fb7-e568-dd88e91f5c3a"
      },
      "execution_count": null,
      "outputs": [
        {
          "output_type": "stream",
          "name": "stdout",
          "text": [
            "(65581, 13)\n"
          ]
        },
        {
          "output_type": "execute_result",
          "data": {
            "text/plain": [
              "            ride_id  rideable_type           started_at             ended_at  \\\n",
              "0  9F5EEFB7CF78C6EA  electric_bike  2024-03-21 13:32:42  2024-03-21 13:35:42   \n",
              "1  01E2E1F218F9D303  electric_bike  2024-03-16 08:26:15  2024-03-16 08:47:53   \n",
              "2  C2914D662B33AA55  electric_bike  2024-03-15 15:17:36  2024-03-15 15:32:12   \n",
              "3  6723F7CE51888493  electric_bike  2024-03-13 08:34:26  2024-03-13 08:50:08   \n",
              "4  EAB7E29AAB546941  electric_bike  2024-03-15 15:37:58  2024-03-15 16:19:32   \n",
              "\n",
              "           start_station_name start_station_id  \\\n",
              "0  Stevens - River Ter & 6 St            HB602   \n",
              "1              Pershing Field            JC024   \n",
              "2              Pershing Field            JC024   \n",
              "3              Pershing Field            JC024   \n",
              "4              Pershing Field            JC024   \n",
              "\n",
              "                   end_station_name end_station_id  start_lat  start_lng  \\\n",
              "0  City Hall - Washington St & 1 St          HB105  40.743143 -74.026907   \n",
              "1                    Pershing Field          JC024  40.742379 -74.051996   \n",
              "2                    Pershing Field          JC024  40.742480 -74.051942   \n",
              "3                    Pershing Field          JC024  40.742400 -74.051963   \n",
              "4                    Pershing Field          JC024  40.742459 -74.051973   \n",
              "\n",
              "     end_lat    end_lng member_casual  \n",
              "0  40.737360 -74.030970        member  \n",
              "1  40.742677 -74.051789        member  \n",
              "2  40.742677 -74.051789        member  \n",
              "3  40.742677 -74.051789        member  \n",
              "4  40.742677 -74.051789        member  "
            ],
            "text/html": [
              "\n",
              "  <div id=\"df-dd66c3b7-cb48-4d8d-9452-ef351c6b4914\" class=\"colab-df-container\">\n",
              "    <div>\n",
              "<style scoped>\n",
              "    .dataframe tbody tr th:only-of-type {\n",
              "        vertical-align: middle;\n",
              "    }\n",
              "\n",
              "    .dataframe tbody tr th {\n",
              "        vertical-align: top;\n",
              "    }\n",
              "\n",
              "    .dataframe thead th {\n",
              "        text-align: right;\n",
              "    }\n",
              "</style>\n",
              "<table border=\"1\" class=\"dataframe\">\n",
              "  <thead>\n",
              "    <tr style=\"text-align: right;\">\n",
              "      <th></th>\n",
              "      <th>ride_id</th>\n",
              "      <th>rideable_type</th>\n",
              "      <th>started_at</th>\n",
              "      <th>ended_at</th>\n",
              "      <th>start_station_name</th>\n",
              "      <th>start_station_id</th>\n",
              "      <th>end_station_name</th>\n",
              "      <th>end_station_id</th>\n",
              "      <th>start_lat</th>\n",
              "      <th>start_lng</th>\n",
              "      <th>end_lat</th>\n",
              "      <th>end_lng</th>\n",
              "      <th>member_casual</th>\n",
              "    </tr>\n",
              "  </thead>\n",
              "  <tbody>\n",
              "    <tr>\n",
              "      <th>0</th>\n",
              "      <td>9F5EEFB7CF78C6EA</td>\n",
              "      <td>electric_bike</td>\n",
              "      <td>2024-03-21 13:32:42</td>\n",
              "      <td>2024-03-21 13:35:42</td>\n",
              "      <td>Stevens - River Ter &amp; 6 St</td>\n",
              "      <td>HB602</td>\n",
              "      <td>City Hall - Washington St &amp; 1 St</td>\n",
              "      <td>HB105</td>\n",
              "      <td>40.743143</td>\n",
              "      <td>-74.026907</td>\n",
              "      <td>40.737360</td>\n",
              "      <td>-74.030970</td>\n",
              "      <td>member</td>\n",
              "    </tr>\n",
              "    <tr>\n",
              "      <th>1</th>\n",
              "      <td>01E2E1F218F9D303</td>\n",
              "      <td>electric_bike</td>\n",
              "      <td>2024-03-16 08:26:15</td>\n",
              "      <td>2024-03-16 08:47:53</td>\n",
              "      <td>Pershing Field</td>\n",
              "      <td>JC024</td>\n",
              "      <td>Pershing Field</td>\n",
              "      <td>JC024</td>\n",
              "      <td>40.742379</td>\n",
              "      <td>-74.051996</td>\n",
              "      <td>40.742677</td>\n",
              "      <td>-74.051789</td>\n",
              "      <td>member</td>\n",
              "    </tr>\n",
              "    <tr>\n",
              "      <th>2</th>\n",
              "      <td>C2914D662B33AA55</td>\n",
              "      <td>electric_bike</td>\n",
              "      <td>2024-03-15 15:17:36</td>\n",
              "      <td>2024-03-15 15:32:12</td>\n",
              "      <td>Pershing Field</td>\n",
              "      <td>JC024</td>\n",
              "      <td>Pershing Field</td>\n",
              "      <td>JC024</td>\n",
              "      <td>40.742480</td>\n",
              "      <td>-74.051942</td>\n",
              "      <td>40.742677</td>\n",
              "      <td>-74.051789</td>\n",
              "      <td>member</td>\n",
              "    </tr>\n",
              "    <tr>\n",
              "      <th>3</th>\n",
              "      <td>6723F7CE51888493</td>\n",
              "      <td>electric_bike</td>\n",
              "      <td>2024-03-13 08:34:26</td>\n",
              "      <td>2024-03-13 08:50:08</td>\n",
              "      <td>Pershing Field</td>\n",
              "      <td>JC024</td>\n",
              "      <td>Pershing Field</td>\n",
              "      <td>JC024</td>\n",
              "      <td>40.742400</td>\n",
              "      <td>-74.051963</td>\n",
              "      <td>40.742677</td>\n",
              "      <td>-74.051789</td>\n",
              "      <td>member</td>\n",
              "    </tr>\n",
              "    <tr>\n",
              "      <th>4</th>\n",
              "      <td>EAB7E29AAB546941</td>\n",
              "      <td>electric_bike</td>\n",
              "      <td>2024-03-15 15:37:58</td>\n",
              "      <td>2024-03-15 16:19:32</td>\n",
              "      <td>Pershing Field</td>\n",
              "      <td>JC024</td>\n",
              "      <td>Pershing Field</td>\n",
              "      <td>JC024</td>\n",
              "      <td>40.742459</td>\n",
              "      <td>-74.051973</td>\n",
              "      <td>40.742677</td>\n",
              "      <td>-74.051789</td>\n",
              "      <td>member</td>\n",
              "    </tr>\n",
              "  </tbody>\n",
              "</table>\n",
              "</div>\n",
              "    <div class=\"colab-df-buttons\">\n",
              "\n",
              "  <div class=\"colab-df-container\">\n",
              "    <button class=\"colab-df-convert\" onclick=\"convertToInteractive('df-dd66c3b7-cb48-4d8d-9452-ef351c6b4914')\"\n",
              "            title=\"Convert this dataframe to an interactive table.\"\n",
              "            style=\"display:none;\">\n",
              "\n",
              "  <svg xmlns=\"http://www.w3.org/2000/svg\" height=\"24px\" viewBox=\"0 -960 960 960\">\n",
              "    <path d=\"M120-120v-720h720v720H120Zm60-500h600v-160H180v160Zm220 220h160v-160H400v160Zm0 220h160v-160H400v160ZM180-400h160v-160H180v160Zm440 0h160v-160H620v160ZM180-180h160v-160H180v160Zm440 0h160v-160H620v160Z\"/>\n",
              "  </svg>\n",
              "    </button>\n",
              "\n",
              "  <style>\n",
              "    .colab-df-container {\n",
              "      display:flex;\n",
              "      gap: 12px;\n",
              "    }\n",
              "\n",
              "    .colab-df-convert {\n",
              "      background-color: #E8F0FE;\n",
              "      border: none;\n",
              "      border-radius: 50%;\n",
              "      cursor: pointer;\n",
              "      display: none;\n",
              "      fill: #1967D2;\n",
              "      height: 32px;\n",
              "      padding: 0 0 0 0;\n",
              "      width: 32px;\n",
              "    }\n",
              "\n",
              "    .colab-df-convert:hover {\n",
              "      background-color: #E2EBFA;\n",
              "      box-shadow: 0px 1px 2px rgba(60, 64, 67, 0.3), 0px 1px 3px 1px rgba(60, 64, 67, 0.15);\n",
              "      fill: #174EA6;\n",
              "    }\n",
              "\n",
              "    .colab-df-buttons div {\n",
              "      margin-bottom: 4px;\n",
              "    }\n",
              "\n",
              "    [theme=dark] .colab-df-convert {\n",
              "      background-color: #3B4455;\n",
              "      fill: #D2E3FC;\n",
              "    }\n",
              "\n",
              "    [theme=dark] .colab-df-convert:hover {\n",
              "      background-color: #434B5C;\n",
              "      box-shadow: 0px 1px 3px 1px rgba(0, 0, 0, 0.15);\n",
              "      filter: drop-shadow(0px 1px 2px rgba(0, 0, 0, 0.3));\n",
              "      fill: #FFFFFF;\n",
              "    }\n",
              "  </style>\n",
              "\n",
              "    <script>\n",
              "      const buttonEl =\n",
              "        document.querySelector('#df-dd66c3b7-cb48-4d8d-9452-ef351c6b4914 button.colab-df-convert');\n",
              "      buttonEl.style.display =\n",
              "        google.colab.kernel.accessAllowed ? 'block' : 'none';\n",
              "\n",
              "      async function convertToInteractive(key) {\n",
              "        const element = document.querySelector('#df-dd66c3b7-cb48-4d8d-9452-ef351c6b4914');\n",
              "        const dataTable =\n",
              "          await google.colab.kernel.invokeFunction('convertToInteractive',\n",
              "                                                    [key], {});\n",
              "        if (!dataTable) return;\n",
              "\n",
              "        const docLinkHtml = 'Like what you see? Visit the ' +\n",
              "          '<a target=\"_blank\" href=https://colab.research.google.com/notebooks/data_table.ipynb>data table notebook</a>'\n",
              "          + ' to learn more about interactive tables.';\n",
              "        element.innerHTML = '';\n",
              "        dataTable['output_type'] = 'display_data';\n",
              "        await google.colab.output.renderOutput(dataTable, element);\n",
              "        const docLink = document.createElement('div');\n",
              "        docLink.innerHTML = docLinkHtml;\n",
              "        element.appendChild(docLink);\n",
              "      }\n",
              "    </script>\n",
              "  </div>\n",
              "\n",
              "\n",
              "<div id=\"df-9bcfc559-21d9-4065-90dc-96e8312a7ecb\">\n",
              "  <button class=\"colab-df-quickchart\" onclick=\"quickchart('df-9bcfc559-21d9-4065-90dc-96e8312a7ecb')\"\n",
              "            title=\"Suggest charts\"\n",
              "            style=\"display:none;\">\n",
              "\n",
              "<svg xmlns=\"http://www.w3.org/2000/svg\" height=\"24px\"viewBox=\"0 0 24 24\"\n",
              "     width=\"24px\">\n",
              "    <g>\n",
              "        <path d=\"M19 3H5c-1.1 0-2 .9-2 2v14c0 1.1.9 2 2 2h14c1.1 0 2-.9 2-2V5c0-1.1-.9-2-2-2zM9 17H7v-7h2v7zm4 0h-2V7h2v10zm4 0h-2v-4h2v4z\"/>\n",
              "    </g>\n",
              "</svg>\n",
              "  </button>\n",
              "\n",
              "<style>\n",
              "  .colab-df-quickchart {\n",
              "      --bg-color: #E8F0FE;\n",
              "      --fill-color: #1967D2;\n",
              "      --hover-bg-color: #E2EBFA;\n",
              "      --hover-fill-color: #174EA6;\n",
              "      --disabled-fill-color: #AAA;\n",
              "      --disabled-bg-color: #DDD;\n",
              "  }\n",
              "\n",
              "  [theme=dark] .colab-df-quickchart {\n",
              "      --bg-color: #3B4455;\n",
              "      --fill-color: #D2E3FC;\n",
              "      --hover-bg-color: #434B5C;\n",
              "      --hover-fill-color: #FFFFFF;\n",
              "      --disabled-bg-color: #3B4455;\n",
              "      --disabled-fill-color: #666;\n",
              "  }\n",
              "\n",
              "  .colab-df-quickchart {\n",
              "    background-color: var(--bg-color);\n",
              "    border: none;\n",
              "    border-radius: 50%;\n",
              "    cursor: pointer;\n",
              "    display: none;\n",
              "    fill: var(--fill-color);\n",
              "    height: 32px;\n",
              "    padding: 0;\n",
              "    width: 32px;\n",
              "  }\n",
              "\n",
              "  .colab-df-quickchart:hover {\n",
              "    background-color: var(--hover-bg-color);\n",
              "    box-shadow: 0 1px 2px rgba(60, 64, 67, 0.3), 0 1px 3px 1px rgba(60, 64, 67, 0.15);\n",
              "    fill: var(--button-hover-fill-color);\n",
              "  }\n",
              "\n",
              "  .colab-df-quickchart-complete:disabled,\n",
              "  .colab-df-quickchart-complete:disabled:hover {\n",
              "    background-color: var(--disabled-bg-color);\n",
              "    fill: var(--disabled-fill-color);\n",
              "    box-shadow: none;\n",
              "  }\n",
              "\n",
              "  .colab-df-spinner {\n",
              "    border: 2px solid var(--fill-color);\n",
              "    border-color: transparent;\n",
              "    border-bottom-color: var(--fill-color);\n",
              "    animation:\n",
              "      spin 1s steps(1) infinite;\n",
              "  }\n",
              "\n",
              "  @keyframes spin {\n",
              "    0% {\n",
              "      border-color: transparent;\n",
              "      border-bottom-color: var(--fill-color);\n",
              "      border-left-color: var(--fill-color);\n",
              "    }\n",
              "    20% {\n",
              "      border-color: transparent;\n",
              "      border-left-color: var(--fill-color);\n",
              "      border-top-color: var(--fill-color);\n",
              "    }\n",
              "    30% {\n",
              "      border-color: transparent;\n",
              "      border-left-color: var(--fill-color);\n",
              "      border-top-color: var(--fill-color);\n",
              "      border-right-color: var(--fill-color);\n",
              "    }\n",
              "    40% {\n",
              "      border-color: transparent;\n",
              "      border-right-color: var(--fill-color);\n",
              "      border-top-color: var(--fill-color);\n",
              "    }\n",
              "    60% {\n",
              "      border-color: transparent;\n",
              "      border-right-color: var(--fill-color);\n",
              "    }\n",
              "    80% {\n",
              "      border-color: transparent;\n",
              "      border-right-color: var(--fill-color);\n",
              "      border-bottom-color: var(--fill-color);\n",
              "    }\n",
              "    90% {\n",
              "      border-color: transparent;\n",
              "      border-bottom-color: var(--fill-color);\n",
              "    }\n",
              "  }\n",
              "</style>\n",
              "\n",
              "  <script>\n",
              "    async function quickchart(key) {\n",
              "      const quickchartButtonEl =\n",
              "        document.querySelector('#' + key + ' button');\n",
              "      quickchartButtonEl.disabled = true;  // To prevent multiple clicks.\n",
              "      quickchartButtonEl.classList.add('colab-df-spinner');\n",
              "      try {\n",
              "        const charts = await google.colab.kernel.invokeFunction(\n",
              "            'suggestCharts', [key], {});\n",
              "      } catch (error) {\n",
              "        console.error('Error during call to suggestCharts:', error);\n",
              "      }\n",
              "      quickchartButtonEl.classList.remove('colab-df-spinner');\n",
              "      quickchartButtonEl.classList.add('colab-df-quickchart-complete');\n",
              "    }\n",
              "    (() => {\n",
              "      let quickchartButtonEl =\n",
              "        document.querySelector('#df-9bcfc559-21d9-4065-90dc-96e8312a7ecb button');\n",
              "      quickchartButtonEl.style.display =\n",
              "        google.colab.kernel.accessAllowed ? 'block' : 'none';\n",
              "    })();\n",
              "  </script>\n",
              "</div>\n",
              "    </div>\n",
              "  </div>\n"
            ],
            "application/vnd.google.colaboratory.intrinsic+json": {
              "type": "dataframe",
              "variable_name": "data",
              "summary": "{\n  \"name\": \"data\",\n  \"rows\": 65581,\n  \"fields\": [\n    {\n      \"column\": \"ride_id\",\n      \"properties\": {\n        \"dtype\": \"string\",\n        \"num_unique_values\": 65581,\n        \"samples\": [\n          \"CC916676C814D67F\",\n          \"E7624D22E374FC66\",\n          \"912B7539B675F021\"\n        ],\n        \"semantic_type\": \"\",\n        \"description\": \"\"\n      }\n    },\n    {\n      \"column\": \"rideable_type\",\n      \"properties\": {\n        \"dtype\": \"category\",\n        \"num_unique_values\": 2,\n        \"samples\": [\n          \"classic_bike\",\n          \"electric_bike\"\n        ],\n        \"semantic_type\": \"\",\n        \"description\": \"\"\n      }\n    },\n    {\n      \"column\": \"started_at\",\n      \"properties\": {\n        \"dtype\": \"object\",\n        \"num_unique_values\": 64049,\n        \"samples\": [\n          \"2024-03-17 15:15:14\",\n          \"2024-03-07 18:14:22\"\n        ],\n        \"semantic_type\": \"\",\n        \"description\": \"\"\n      }\n    },\n    {\n      \"column\": \"ended_at\",\n      \"properties\": {\n        \"dtype\": \"object\",\n        \"num_unique_values\": 64173,\n        \"samples\": [\n          \"2024-03-21 07:46:49\",\n          \"2024-03-26 23:44:30\"\n        ],\n        \"semantic_type\": \"\",\n        \"description\": \"\"\n      }\n    },\n    {\n      \"column\": \"start_station_name\",\n      \"properties\": {\n        \"dtype\": \"category\",\n        \"num_unique_values\": 89,\n        \"samples\": [\n          \"Hamilton Park\",\n          \"York St & Marin Blvd\"\n        ],\n        \"semantic_type\": \"\",\n        \"description\": \"\"\n      }\n    },\n    {\n      \"column\": \"start_station_id\",\n      \"properties\": {\n        \"dtype\": \"category\",\n        \"num_unique_values\": 89,\n        \"samples\": [\n          \"JC009\",\n          \"JC097\"\n        ],\n        \"semantic_type\": \"\",\n        \"description\": \"\"\n      }\n    },\n    {\n      \"column\": \"end_station_name\",\n      \"properties\": {\n        \"dtype\": \"category\",\n        \"num_unique_values\": 139,\n        \"samples\": [\n          \"West St & Liberty St\",\n          \"Broad St & Bridge St\"\n        ],\n        \"semantic_type\": \"\",\n        \"description\": \"\"\n      }\n    },\n    {\n      \"column\": \"end_station_id\",\n      \"properties\": {\n        \"dtype\": \"category\",\n        \"num_unique_values\": 139,\n        \"samples\": [\n          \"5184.08\",\n          \"4962.08\"\n        ],\n        \"semantic_type\": \"\",\n        \"description\": \"\"\n      }\n    },\n    {\n      \"column\": \"start_lat\",\n      \"properties\": {\n        \"dtype\": \"number\",\n        \"std\": 0.01205937683539901,\n        \"min\": 40.70652926,\n        \"max\": 40.754756689,\n        \"num_unique_values\": 27133,\n        \"samples\": [\n          40.72171402,\n          40.722088695\n        ],\n        \"semantic_type\": \"\",\n        \"description\": \"\"\n      }\n    },\n    {\n      \"column\": \"start_lng\",\n      \"properties\": {\n        \"dtype\": \"number\",\n        \"std\": 0.012065968008122133,\n        \"min\": -74.0932553,\n        \"max\": -74.023437738,\n        \"num_unique_values\": 27559,\n        \"samples\": [\n          -74.029131651,\n          -74.039007306\n        ],\n        \"semantic_type\": \"\",\n        \"description\": \"\"\n      }\n    },\n    {\n      \"column\": \"end_lat\",\n      \"properties\": {\n        \"dtype\": \"number\",\n        \"std\": 0.012157270691955229,\n        \"min\": 40.67,\n        \"max\": 40.87139,\n        \"num_unique_values\": 149,\n        \"samples\": [\n          40.72333158646436,\n          40.73593758446329\n        ],\n        \"semantic_type\": \"\",\n        \"description\": \"\"\n      }\n    },\n    {\n      \"column\": \"end_lng\",\n      \"properties\": {\n        \"dtype\": \"number\",\n        \"std\": 0.01209435624979698,\n        \"min\": -74.12,\n        \"max\": -73.914318,\n        \"num_unique_values\": 149,\n        \"samples\": [\n          -74.06762212514877,\n          -74.03030455112457\n        ],\n        \"semantic_type\": \"\",\n        \"description\": \"\"\n      }\n    },\n    {\n      \"column\": \"member_casual\",\n      \"properties\": {\n        \"dtype\": \"category\",\n        \"num_unique_values\": 2,\n        \"samples\": [\n          \"casual\",\n          \"member\"\n        ],\n        \"semantic_type\": \"\",\n        \"description\": \"\"\n      }\n    }\n  ]\n}"
            }
          },
          "metadata": {},
          "execution_count": 4
        }
      ]
    },
    {
      "cell_type": "code",
      "source": [
        "%sh\n",
        "\n",
        "base_url=\"https://s3.amazonaws.com/tripdata/\"\n",
        "ext=\".csv.zip\"\n",
        "years=(\"2022\" \"2023\")\n",
        "\n",
        "for year in \"${years[@]}\"; do\n",
        "  for month in {01..12};\n",
        "   do\n",
        "      if [ \"$year\" == \"2022\" ] && { [ \"$month\" == \"06\" ] || [ \"$month\" == \"07\" ]; }; then\n",
        "        name_suffix=\"-citbike-tripdata\"\n",
        "      elif [ \"$year\" == \"2023\" ] && [ \"$month\" == \"08\" ]; then\n",
        "        break  # Break out of the loop for July in 2023\n",
        "      else\n",
        "        name_suffix=\"-citibike-tripdata\"\n",
        "      fi\n",
        "\n",
        "      file_name=\"{month}{ext}\"\n",
        "      url=\"{file_name}\"\n",
        "      output_path=\"/tmp/${file_name}\"\n",
        "\n",
        "      curl \"$url\" --output \"$output_path\"\n",
        "      unzip -n \"$output_path\"\n",
        "  done\n",
        "done\n",
        "echo -e \"\\e[1mDownloaded and unzipped Citibike data\\e[0m\""
      ],
      "metadata": {
        "colab": {
          "base_uri": "https://localhost:8080/",
          "height": 106
        },
        "id": "YKumrPnulOJt",
        "outputId": "1f3a4141-b77a-4b1d-eec5-89fa805f3024"
      },
      "execution_count": null,
      "outputs": [
        {
          "output_type": "error",
          "ename": "SyntaxError",
          "evalue": "invalid syntax (<ipython-input-8-cebec9d35857>, line 7)",
          "traceback": [
            "\u001b[0;36m  File \u001b[0;32m\"<ipython-input-8-cebec9d35857>\"\u001b[0;36m, line \u001b[0;32m7\u001b[0m\n\u001b[0;31m    for year in \"${years[@]}\"; do\u001b[0m\n\u001b[0m                             ^\u001b[0m\n\u001b[0;31mSyntaxError\u001b[0m\u001b[0;31m:\u001b[0m invalid syntax\n"
          ]
        }
      ]
    }
  ]
}